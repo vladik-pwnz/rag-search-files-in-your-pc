{
 "cells": [
  {
   "cell_type": "code",
   "execution_count": 2,
   "metadata": {},
   "outputs": [
    {
     "name": "stderr",
     "output_type": "stream",
     "text": [
      "2024-05-31 16:03:21,788 - __main__ - INFO - Successfully connected to Qdrant server.\n",
      "2024-05-31 16:03:21,789 - sentence_transformers.SentenceTransformer - INFO - Load pretrained SentenceTransformer: intfloat/multilingual-e5-large\n",
      "2024-05-31 16:03:25,008 - sentence_transformers.SentenceTransformer - INFO - Use pytorch device_name: cuda\n",
      "2024-05-31 16:03:26,020 - httpx - INFO - HTTP Request: DELETE http://localhost:6333/collections/documents \"HTTP/1.1 200 OK\"\n",
      "2024-05-31 16:03:26,021 - __main__ - INFO - Collection documents deleted successfully.\n",
      "2024-05-31 16:03:26,221 - httpx - INFO - HTTP Request: PUT http://localhost:6333/collections/documents \"HTTP/1.1 200 OK\"\n",
      "2024-05-31 16:03:26,222 - __main__ - INFO - Collection documents created successfully.\n"
     ]
    },
    {
     "data": {
      "application/vnd.jupyter.widget-view+json": {
       "model_id": "43c229e0f58b41f6922158e9b087456c",
       "version_major": 2,
       "version_minor": 0
      },
      "text/plain": [
       "Batches:   0%|          | 0/2 [00:00<?, ?it/s]"
      ]
     },
     "metadata": {},
     "output_type": "display_data"
    },
    {
     "name": "stderr",
     "output_type": "stream",
     "text": [
      "2024-05-31 16:03:28,341 - httpx - INFO - HTTP Request: PUT http://localhost:6333/collections/documents/points?wait=true \"HTTP/1.1 200 OK\"\n",
      "2024-05-31 16:03:28,343 - __main__ - INFO - Successfully saved chunks for file 10669.txt.\n"
     ]
    },
    {
     "data": {
      "application/vnd.jupyter.widget-view+json": {
       "model_id": "5a003741b4384b54ab732968a208906a",
       "version_major": 2,
       "version_minor": 0
      },
      "text/plain": [
       "Batches:   0%|          | 0/1 [00:00<?, ?it/s]"
      ]
     },
     "metadata": {},
     "output_type": "display_data"
    },
    {
     "name": "stderr",
     "output_type": "stream",
     "text": [
      "2024-05-31 16:03:29,811 - httpx - INFO - HTTP Request: PUT http://localhost:6333/collections/documents/points?wait=true \"HTTP/1.1 200 OK\"\n",
      "2024-05-31 16:03:29,813 - __main__ - INFO - Successfully saved chunks for file 106717.txt.\n"
     ]
    },
    {
     "data": {
      "application/vnd.jupyter.widget-view+json": {
       "model_id": "5047ade2382d40488bdf151c24c4a69d",
       "version_major": 2,
       "version_minor": 0
      },
      "text/plain": [
       "Batches:   0%|          | 0/1 [00:00<?, ?it/s]"
      ]
     },
     "metadata": {},
     "output_type": "display_data"
    },
    {
     "name": "stderr",
     "output_type": "stream",
     "text": [
      "2024-05-31 16:03:30,045 - httpx - INFO - HTTP Request: PUT http://localhost:6333/collections/documents/points?wait=true \"HTTP/1.1 200 OK\"\n",
      "2024-05-31 16:03:30,047 - __main__ - INFO - Successfully saved chunks for file 107723.txt.\n"
     ]
    },
    {
     "data": {
      "application/vnd.jupyter.widget-view+json": {
       "model_id": "0ecbe37e9d7b447e9e11f2896d46d14a",
       "version_major": 2,
       "version_minor": 0
      },
      "text/plain": [
       "Batches:   0%|          | 0/1 [00:00<?, ?it/s]"
      ]
     },
     "metadata": {},
     "output_type": "display_data"
    },
    {
     "name": "stderr",
     "output_type": "stream",
     "text": [
      "2024-05-31 16:03:30,412 - httpx - INFO - HTTP Request: PUT http://localhost:6333/collections/documents/points?wait=true \"HTTP/1.1 200 OK\"\n",
      "2024-05-31 16:03:30,414 - __main__ - INFO - Successfully saved chunks for file 11028.txt.\n"
     ]
    },
    {
     "data": {
      "application/vnd.jupyter.widget-view+json": {
       "model_id": "acbb5a3389f74af39db7fec635b6e9ba",
       "version_major": 2,
       "version_minor": 0
      },
      "text/plain": [
       "Batches:   0%|          | 0/1 [00:00<?, ?it/s]"
      ]
     },
     "metadata": {},
     "output_type": "display_data"
    },
    {
     "name": "stderr",
     "output_type": "stream",
     "text": [
      "2024-05-31 16:03:31,689 - httpx - INFO - HTTP Request: PUT http://localhost:6333/collections/documents/points?wait=true \"HTTP/1.1 200 OK\"\n",
      "2024-05-31 16:03:31,690 - __main__ - INFO - Successfully saved chunks for file 11314.txt.\n"
     ]
    },
    {
     "data": {
      "application/vnd.jupyter.widget-view+json": {
       "model_id": "70ff2508ce7548669821cbdd854c66da",
       "version_major": 2,
       "version_minor": 0
      },
      "text/plain": [
       "Batches:   0%|          | 0/1 [00:00<?, ?it/s]"
      ]
     },
     "metadata": {},
     "output_type": "display_data"
    },
    {
     "name": "stderr",
     "output_type": "stream",
     "text": [
      "2024-05-31 16:03:33,084 - httpx - INFO - HTTP Request: PUT http://localhost:6333/collections/documents/points?wait=true \"HTTP/1.1 200 OK\"\n",
      "2024-05-31 16:03:33,085 - __main__ - INFO - Successfully saved chunks for file 132041.txt.\n"
     ]
    },
    {
     "data": {
      "application/vnd.jupyter.widget-view+json": {
       "model_id": "4b8e291b9e1342d9b15601595ae2b830",
       "version_major": 2,
       "version_minor": 0
      },
      "text/plain": [
       "Batches:   0%|          | 0/1 [00:00<?, ?it/s]"
      ]
     },
     "metadata": {},
     "output_type": "display_data"
    },
    {
     "name": "stderr",
     "output_type": "stream",
     "text": [
      "2024-05-31 16:03:33,728 - httpx - INFO - HTTP Request: PUT http://localhost:6333/collections/documents/points?wait=true \"HTTP/1.1 200 OK\"\n",
      "2024-05-31 16:03:33,730 - __main__ - INFO - Successfully saved chunks for file 13439.txt.\n"
     ]
    },
    {
     "data": {
      "application/vnd.jupyter.widget-view+json": {
       "model_id": "aa2bd2d7097e48fe83b63f774f1faa40",
       "version_major": 2,
       "version_minor": 0
      },
      "text/plain": [
       "Batches:   0%|          | 0/1 [00:00<?, ?it/s]"
      ]
     },
     "metadata": {},
     "output_type": "display_data"
    },
    {
     "name": "stderr",
     "output_type": "stream",
     "text": [
      "2024-05-31 16:03:33,943 - httpx - INFO - HTTP Request: PUT http://localhost:6333/collections/documents/points?wait=true \"HTTP/1.1 200 OK\"\n",
      "2024-05-31 16:03:33,945 - __main__ - INFO - Successfully saved chunks for file 1417133.txt.\n"
     ]
    },
    {
     "data": {
      "application/vnd.jupyter.widget-view+json": {
       "model_id": "aa19f822ec10422f87581f9713b3cf93",
       "version_major": 2,
       "version_minor": 0
      },
      "text/plain": [
       "Batches:   0%|          | 0/1 [00:00<?, ?it/s]"
      ]
     },
     "metadata": {},
     "output_type": "display_data"
    },
    {
     "name": "stderr",
     "output_type": "stream",
     "text": [
      "2024-05-31 16:03:34,218 - httpx - INFO - HTTP Request: PUT http://localhost:6333/collections/documents/points?wait=true \"HTTP/1.1 200 OK\"\n",
      "2024-05-31 16:03:34,219 - __main__ - INFO - Successfully saved chunks for file 146063.txt.\n"
     ]
    },
    {
     "data": {
      "application/vnd.jupyter.widget-view+json": {
       "model_id": "35357268404a42a69e7ed9893e82e962",
       "version_major": 2,
       "version_minor": 0
      },
      "text/plain": [
       "Batches:   0%|          | 0/1 [00:00<?, ?it/s]"
      ]
     },
     "metadata": {},
     "output_type": "display_data"
    },
    {
     "name": "stderr",
     "output_type": "stream",
     "text": [
      "2024-05-31 16:03:34,710 - httpx - INFO - HTTP Request: PUT http://localhost:6333/collections/documents/points?wait=true \"HTTP/1.1 200 OK\"\n",
      "2024-05-31 16:03:34,711 - __main__ - INFO - Successfully saved chunks for file 1472675.txt.\n"
     ]
    },
    {
     "data": {
      "application/vnd.jupyter.widget-view+json": {
       "model_id": "08317bc05ecc42eb86a8c40087fd9906",
       "version_major": 2,
       "version_minor": 0
      },
      "text/plain": [
       "Batches:   0%|          | 0/1 [00:00<?, ?it/s]"
      ]
     },
     "metadata": {},
     "output_type": "display_data"
    },
    {
     "name": "stderr",
     "output_type": "stream",
     "text": [
      "2024-05-31 16:03:35,172 - httpx - INFO - HTTP Request: PUT http://localhost:6333/collections/documents/points?wait=true \"HTTP/1.1 200 OK\"\n",
      "2024-05-31 16:03:35,173 - __main__ - INFO - Successfully saved chunks for file 1474402.txt.\n"
     ]
    },
    {
     "data": {
      "application/vnd.jupyter.widget-view+json": {
       "model_id": "ad6d9d44d0834ebaab40f0d33e94bf81",
       "version_major": 2,
       "version_minor": 0
      },
      "text/plain": [
       "Batches:   0%|          | 0/1 [00:00<?, ?it/s]"
      ]
     },
     "metadata": {},
     "output_type": "display_data"
    },
    {
     "name": "stderr",
     "output_type": "stream",
     "text": [
      "2024-05-31 16:03:35,758 - httpx - INFO - HTTP Request: PUT http://localhost:6333/collections/documents/points?wait=true \"HTTP/1.1 200 OK\"\n",
      "2024-05-31 16:03:35,759 - __main__ - INFO - Successfully saved chunks for file 1475.txt.\n"
     ]
    },
    {
     "data": {
      "application/vnd.jupyter.widget-view+json": {
       "model_id": "59e979bd50a54dada365b871e8c3823d",
       "version_major": 2,
       "version_minor": 0
      },
      "text/plain": [
       "Batches:   0%|          | 0/1 [00:00<?, ?it/s]"
      ]
     },
     "metadata": {},
     "output_type": "display_data"
    },
    {
     "name": "stderr",
     "output_type": "stream",
     "text": [
      "2024-05-31 16:03:36,437 - httpx - INFO - HTTP Request: PUT http://localhost:6333/collections/documents/points?wait=true \"HTTP/1.1 200 OK\"\n",
      "2024-05-31 16:03:36,438 - __main__ - INFO - Successfully saved chunks for file 1671.txt.\n"
     ]
    },
    {
     "data": {
      "application/vnd.jupyter.widget-view+json": {
       "model_id": "ddf4bb2d3ec94c4e8f35075702813fba",
       "version_major": 2,
       "version_minor": 0
      },
      "text/plain": [
       "Batches:   0%|          | 0/1 [00:00<?, ?it/s]"
      ]
     },
     "metadata": {},
     "output_type": "display_data"
    },
    {
     "name": "stderr",
     "output_type": "stream",
     "text": [
      "2024-05-31 16:03:37,305 - httpx - INFO - HTTP Request: PUT http://localhost:6333/collections/documents/points?wait=true \"HTTP/1.1 200 OK\"\n",
      "2024-05-31 16:03:37,306 - __main__ - INFO - Successfully saved chunks for file 172300.txt.\n"
     ]
    },
    {
     "data": {
      "application/vnd.jupyter.widget-view+json": {
       "model_id": "0998748079cb473da1883f7d5ede8504",
       "version_major": 2,
       "version_minor": 0
      },
      "text/plain": [
       "Batches:   0%|          | 0/1 [00:00<?, ?it/s]"
      ]
     },
     "metadata": {},
     "output_type": "display_data"
    },
    {
     "name": "stderr",
     "output_type": "stream",
     "text": [
      "2024-05-31 16:03:37,471 - httpx - INFO - HTTP Request: PUT http://localhost:6333/collections/documents/points?wait=true \"HTTP/1.1 200 OK\"\n",
      "2024-05-31 16:03:37,472 - __main__ - INFO - Successfully saved chunks for file 1747996.txt.\n"
     ]
    },
    {
     "data": {
      "application/vnd.jupyter.widget-view+json": {
       "model_id": "d598eb35062a4fb1a613cf71e6b4d37b",
       "version_major": 2,
       "version_minor": 0
      },
      "text/plain": [
       "Batches:   0%|          | 0/3 [00:00<?, ?it/s]"
      ]
     },
     "metadata": {},
     "output_type": "display_data"
    },
    {
     "name": "stderr",
     "output_type": "stream",
     "text": [
      "2024-05-31 16:03:41,672 - httpx - INFO - HTTP Request: PUT http://localhost:6333/collections/documents/points?wait=true \"HTTP/1.1 200 OK\"\n",
      "2024-05-31 16:03:41,673 - __main__ - INFO - Successfully saved chunks for file 17714.txt.\n"
     ]
    },
    {
     "data": {
      "application/vnd.jupyter.widget-view+json": {
       "model_id": "54b4f3a5332b4740a5cb6f0480b5af60",
       "version_major": 2,
       "version_minor": 0
      },
      "text/plain": [
       "Batches:   0%|          | 0/1 [00:00<?, ?it/s]"
      ]
     },
     "metadata": {},
     "output_type": "display_data"
    },
    {
     "name": "stderr",
     "output_type": "stream",
     "text": [
      "2024-05-31 16:03:41,951 - httpx - INFO - HTTP Request: PUT http://localhost:6333/collections/documents/points?wait=true \"HTTP/1.1 200 OK\"\n",
      "2024-05-31 16:03:41,952 - __main__ - INFO - Successfully saved chunks for file 182333.txt.\n"
     ]
    },
    {
     "data": {
      "application/vnd.jupyter.widget-view+json": {
       "model_id": "f5215d2a3e5543079b3007915b50c36d",
       "version_major": 2,
       "version_minor": 0
      },
      "text/plain": [
       "Batches:   0%|          | 0/1 [00:00<?, ?it/s]"
      ]
     },
     "metadata": {},
     "output_type": "display_data"
    },
    {
     "name": "stderr",
     "output_type": "stream",
     "text": [
      "2024-05-31 16:03:42,243 - httpx - INFO - HTTP Request: PUT http://localhost:6333/collections/documents/points?wait=true \"HTTP/1.1 200 OK\"\n",
      "2024-05-31 16:03:42,244 - __main__ - INFO - Successfully saved chunks for file 1828524.txt.\n"
     ]
    },
    {
     "data": {
      "application/vnd.jupyter.widget-view+json": {
       "model_id": "3e46ba1beeb24c929ff0309d6885baf3",
       "version_major": 2,
       "version_minor": 0
      },
      "text/plain": [
       "Batches:   0%|          | 0/1 [00:00<?, ?it/s]"
      ]
     },
     "metadata": {},
     "output_type": "display_data"
    },
    {
     "name": "stderr",
     "output_type": "stream",
     "text": [
      "2024-05-31 16:03:42,423 - httpx - INFO - HTTP Request: PUT http://localhost:6333/collections/documents/points?wait=true \"HTTP/1.1 200 OK\"\n",
      "2024-05-31 16:03:42,424 - __main__ - INFO - Successfully saved chunks for file 1858295.txt.\n"
     ]
    },
    {
     "data": {
      "application/vnd.jupyter.widget-view+json": {
       "model_id": "599a519663b445fc88b7bc0f7f74f2eb",
       "version_major": 2,
       "version_minor": 0
      },
      "text/plain": [
       "Batches:   0%|          | 0/1 [00:00<?, ?it/s]"
      ]
     },
     "metadata": {},
     "output_type": "display_data"
    },
    {
     "name": "stderr",
     "output_type": "stream",
     "text": [
      "2024-05-31 16:03:42,607 - httpx - INFO - HTTP Request: PUT http://localhost:6333/collections/documents/points?wait=true \"HTTP/1.1 200 OK\"\n",
      "2024-05-31 16:03:42,609 - __main__ - INFO - Successfully saved chunks for file 187336.txt.\n"
     ]
    },
    {
     "data": {
      "application/vnd.jupyter.widget-view+json": {
       "model_id": "dcba8ffd48a04792a92a6e8addcf632b",
       "version_major": 2,
       "version_minor": 0
      },
      "text/plain": [
       "Batches:   0%|          | 0/2 [00:00<?, ?it/s]"
      ]
     },
     "metadata": {},
     "output_type": "display_data"
    },
    {
     "name": "stderr",
     "output_type": "stream",
     "text": [
      "2024-05-31 16:03:43,904 - httpx - INFO - HTTP Request: PUT http://localhost:6333/collections/documents/points?wait=true \"HTTP/1.1 200 OK\"\n",
      "2024-05-31 16:03:43,905 - __main__ - INFO - Successfully saved chunks for file 1921.txt.\n"
     ]
    },
    {
     "data": {
      "application/vnd.jupyter.widget-view+json": {
       "model_id": "9b5bc2dd24534039b075ca410e8c866c",
       "version_major": 2,
       "version_minor": 0
      },
      "text/plain": [
       "Batches:   0%|          | 0/1 [00:00<?, ?it/s]"
      ]
     },
     "metadata": {},
     "output_type": "display_data"
    },
    {
     "name": "stderr",
     "output_type": "stream",
     "text": [
      "2024-05-31 16:03:44,621 - httpx - INFO - HTTP Request: PUT http://localhost:6333/collections/documents/points?wait=true \"HTTP/1.1 200 OK\"\n",
      "2024-05-31 16:03:44,622 - __main__ - INFO - Successfully saved chunks for file 19985.txt.\n"
     ]
    },
    {
     "data": {
      "application/vnd.jupyter.widget-view+json": {
       "model_id": "0edae009ac4849ee83b22f6a7c281747",
       "version_major": 2,
       "version_minor": 0
      },
      "text/plain": [
       "Batches:   0%|          | 0/1 [00:00<?, ?it/s]"
      ]
     },
     "metadata": {},
     "output_type": "display_data"
    },
    {
     "name": "stderr",
     "output_type": "stream",
     "text": [
      "2024-05-31 16:03:44,818 - httpx - INFO - HTTP Request: PUT http://localhost:6333/collections/documents/points?wait=true \"HTTP/1.1 200 OK\"\n",
      "2024-05-31 16:03:44,819 - __main__ - INFO - Successfully saved chunks for file 2138257.txt.\n"
     ]
    },
    {
     "data": {
      "application/vnd.jupyter.widget-view+json": {
       "model_id": "abb34162fd404dd3a0f25e900b0f5870",
       "version_major": 2,
       "version_minor": 0
      },
      "text/plain": [
       "Batches:   0%|          | 0/1 [00:00<?, ?it/s]"
      ]
     },
     "metadata": {},
     "output_type": "display_data"
    },
    {
     "name": "stderr",
     "output_type": "stream",
     "text": [
      "2024-05-31 16:03:46,484 - httpx - INFO - HTTP Request: PUT http://localhost:6333/collections/documents/points?wait=true \"HTTP/1.1 200 OK\"\n",
      "2024-05-31 16:03:46,486 - __main__ - INFO - Successfully saved chunks for file 22419.txt.\n"
     ]
    },
    {
     "data": {
      "application/vnd.jupyter.widget-view+json": {
       "model_id": "331ffdecaa5e4e759744a0aff39a25d1",
       "version_major": 2,
       "version_minor": 0
      },
      "text/plain": [
       "Batches:   0%|          | 0/1 [00:00<?, ?it/s]"
      ]
     },
     "metadata": {},
     "output_type": "display_data"
    },
    {
     "name": "stderr",
     "output_type": "stream",
     "text": [
      "2024-05-31 16:03:46,965 - httpx - INFO - HTTP Request: PUT http://localhost:6333/collections/documents/points?wait=true \"HTTP/1.1 200 OK\"\n",
      "2024-05-31 16:03:46,966 - __main__ - INFO - Successfully saved chunks for file 23698.txt.\n"
     ]
    },
    {
     "data": {
      "application/vnd.jupyter.widget-view+json": {
       "model_id": "58e9af36ffe84171992b3e90daf3682d",
       "version_major": 2,
       "version_minor": 0
      },
      "text/plain": [
       "Batches:   0%|          | 0/3 [00:00<?, ?it/s]"
      ]
     },
     "metadata": {},
     "output_type": "display_data"
    },
    {
     "name": "stderr",
     "output_type": "stream",
     "text": [
      "2024-05-31 16:03:50,483 - httpx - INFO - HTTP Request: PUT http://localhost:6333/collections/documents/points?wait=true \"HTTP/1.1 200 OK\"\n",
      "2024-05-31 16:03:50,484 - __main__ - INFO - Successfully saved chunks for file 25022.txt.\n"
     ]
    },
    {
     "data": {
      "application/vnd.jupyter.widget-view+json": {
       "model_id": "a5c78d8b48f74e89b527a87f39f87490",
       "version_major": 2,
       "version_minor": 0
      },
      "text/plain": [
       "Batches:   0%|          | 0/1 [00:00<?, ?it/s]"
      ]
     },
     "metadata": {},
     "output_type": "display_data"
    },
    {
     "name": "stderr",
     "output_type": "stream",
     "text": [
      "2024-05-31 16:03:51,045 - httpx - INFO - HTTP Request: PUT http://localhost:6333/collections/documents/points?wait=true \"HTTP/1.1 200 OK\"\n",
      "2024-05-31 16:03:51,046 - __main__ - INFO - Successfully saved chunks for file 273921.txt.\n"
     ]
    },
    {
     "data": {
      "application/vnd.jupyter.widget-view+json": {
       "model_id": "56b35b820b08469291f18453d53f8b53",
       "version_major": 2,
       "version_minor": 0
      },
      "text/plain": [
       "Batches:   0%|          | 0/1 [00:00<?, ?it/s]"
      ]
     },
     "metadata": {},
     "output_type": "display_data"
    },
    {
     "name": "stderr",
     "output_type": "stream",
     "text": [
      "2024-05-31 16:03:52,329 - httpx - INFO - HTTP Request: PUT http://localhost:6333/collections/documents/points?wait=true \"HTTP/1.1 200 OK\"\n",
      "2024-05-31 16:03:52,330 - __main__ - INFO - Successfully saved chunks for file 2777.txt.\n"
     ]
    },
    {
     "data": {
      "application/vnd.jupyter.widget-view+json": {
       "model_id": "6e2c3255e8e349bf943f32153bb39cc8",
       "version_major": 2,
       "version_minor": 0
      },
      "text/plain": [
       "Batches:   0%|          | 0/1 [00:00<?, ?it/s]"
      ]
     },
     "metadata": {},
     "output_type": "display_data"
    },
    {
     "name": "stderr",
     "output_type": "stream",
     "text": [
      "2024-05-31 16:03:52,480 - httpx - INFO - HTTP Request: PUT http://localhost:6333/collections/documents/points?wait=true \"HTTP/1.1 200 OK\"\n",
      "2024-05-31 16:03:52,481 - __main__ - INFO - Successfully saved chunks for file 278922.txt.\n"
     ]
    },
    {
     "data": {
      "application/vnd.jupyter.widget-view+json": {
       "model_id": "c0f7ac6fb97d4c0491e016a9911af391",
       "version_major": 2,
       "version_minor": 0
      },
      "text/plain": [
       "Batches:   0%|          | 0/1 [00:00<?, ?it/s]"
      ]
     },
     "metadata": {},
     "output_type": "display_data"
    },
    {
     "name": "stderr",
     "output_type": "stream",
     "text": [
      "2024-05-31 16:03:53,508 - httpx - INFO - HTTP Request: PUT http://localhost:6333/collections/documents/points?wait=true \"HTTP/1.1 200 OK\"\n",
      "2024-05-31 16:03:53,509 - __main__ - INFO - Successfully saved chunks for file 2797.txt.\n"
     ]
    },
    {
     "data": {
      "application/vnd.jupyter.widget-view+json": {
       "model_id": "c7786622417542869f9313f283ba65a3",
       "version_major": 2,
       "version_minor": 0
      },
      "text/plain": [
       "Batches:   0%|          | 0/1 [00:00<?, ?it/s]"
      ]
     },
     "metadata": {},
     "output_type": "display_data"
    },
    {
     "name": "stderr",
     "output_type": "stream",
     "text": [
      "2024-05-31 16:03:53,749 - httpx - INFO - HTTP Request: PUT http://localhost:6333/collections/documents/points?wait=true \"HTTP/1.1 200 OK\"\n",
      "2024-05-31 16:03:53,750 - __main__ - INFO - Successfully saved chunks for file 293530.txt.\n"
     ]
    },
    {
     "data": {
      "application/vnd.jupyter.widget-view+json": {
       "model_id": "b43541fd1931492bab520f10888c4b3e",
       "version_major": 2,
       "version_minor": 0
      },
      "text/plain": [
       "Batches:   0%|          | 0/2 [00:00<?, ?it/s]"
      ]
     },
     "metadata": {},
     "output_type": "display_data"
    },
    {
     "name": "stderr",
     "output_type": "stream",
     "text": [
      "2024-05-31 16:03:56,642 - httpx - INFO - HTTP Request: PUT http://localhost:6333/collections/documents/points?wait=true \"HTTP/1.1 200 OK\"\n",
      "2024-05-31 16:03:56,643 - __main__ - INFO - Successfully saved chunks for file 2944.txt.\n"
     ]
    },
    {
     "data": {
      "application/vnd.jupyter.widget-view+json": {
       "model_id": "c47d0ae0df8d4e8d92eb4edb4c096566",
       "version_major": 2,
       "version_minor": 0
      },
      "text/plain": [
       "Batches:   0%|          | 0/1 [00:00<?, ?it/s]"
      ]
     },
     "metadata": {},
     "output_type": "display_data"
    },
    {
     "name": "stderr",
     "output_type": "stream",
     "text": [
      "2024-05-31 16:03:56,973 - httpx - INFO - HTTP Request: PUT http://localhost:6333/collections/documents/points?wait=true \"HTTP/1.1 200 OK\"\n",
      "2024-05-31 16:03:56,974 - __main__ - INFO - Successfully saved chunks for file 2948657.txt.\n"
     ]
    },
    {
     "data": {
      "application/vnd.jupyter.widget-view+json": {
       "model_id": "801932fbf901462c80ccf81b0803f3e6",
       "version_major": 2,
       "version_minor": 0
      },
      "text/plain": [
       "Batches:   0%|          | 0/1 [00:00<?, ?it/s]"
      ]
     },
     "metadata": {},
     "output_type": "display_data"
    },
    {
     "name": "stderr",
     "output_type": "stream",
     "text": [
      "2024-05-31 16:03:57,320 - httpx - INFO - HTTP Request: PUT http://localhost:6333/collections/documents/points?wait=true \"HTTP/1.1 200 OK\"\n",
      "2024-05-31 16:03:57,320 - __main__ - INFO - Successfully saved chunks for file 300138.txt.\n"
     ]
    },
    {
     "data": {
      "application/vnd.jupyter.widget-view+json": {
       "model_id": "2c27220f1af04885aed65bf911981d3c",
       "version_major": 2,
       "version_minor": 0
      },
      "text/plain": [
       "Batches:   0%|          | 0/1 [00:00<?, ?it/s]"
      ]
     },
     "metadata": {},
     "output_type": "display_data"
    },
    {
     "name": "stderr",
     "output_type": "stream",
     "text": [
      "2024-05-31 16:03:57,424 - httpx - INFO - HTTP Request: PUT http://localhost:6333/collections/documents/points?wait=true \"HTTP/1.1 200 OK\"\n",
      "2024-05-31 16:03:57,426 - __main__ - INFO - Successfully saved chunks for file 3235084.txt.\n"
     ]
    },
    {
     "data": {
      "application/vnd.jupyter.widget-view+json": {
       "model_id": "776b44465c8649288c3170b59a979970",
       "version_major": 2,
       "version_minor": 0
      },
      "text/plain": [
       "Batches:   0%|          | 0/2 [00:00<?, ?it/s]"
      ]
     },
     "metadata": {},
     "output_type": "display_data"
    },
    {
     "name": "stderr",
     "output_type": "stream",
     "text": [
      "2024-05-31 16:03:59,205 - httpx - INFO - HTTP Request: PUT http://localhost:6333/collections/documents/points?wait=true \"HTTP/1.1 200 OK\"\n",
      "2024-05-31 16:03:59,206 - __main__ - INFO - Successfully saved chunks for file 34248.txt.\n"
     ]
    },
    {
     "data": {
      "application/vnd.jupyter.widget-view+json": {
       "model_id": "71dbb3dc94f44c79999d3ee328208eec",
       "version_major": 2,
       "version_minor": 0
      },
      "text/plain": [
       "Batches:   0%|          | 0/1 [00:00<?, ?it/s]"
      ]
     },
     "metadata": {},
     "output_type": "display_data"
    },
    {
     "name": "stderr",
     "output_type": "stream",
     "text": [
      "2024-05-31 16:03:59,354 - httpx - INFO - HTTP Request: PUT http://localhost:6333/collections/documents/points?wait=true \"HTTP/1.1 200 OK\"\n",
      "2024-05-31 16:03:59,355 - __main__ - INFO - Successfully saved chunks for file 354896.txt.\n"
     ]
    },
    {
     "data": {
      "application/vnd.jupyter.widget-view+json": {
       "model_id": "ec00a8b71c9d4af084574998411694f3",
       "version_major": 2,
       "version_minor": 0
      },
      "text/plain": [
       "Batches:   0%|          | 0/1 [00:00<?, ?it/s]"
      ]
     },
     "metadata": {},
     "output_type": "display_data"
    },
    {
     "name": "stderr",
     "output_type": "stream",
     "text": [
      "2024-05-31 16:04:00,734 - httpx - INFO - HTTP Request: PUT http://localhost:6333/collections/documents/points?wait=true \"HTTP/1.1 200 OK\"\n",
      "2024-05-31 16:04:00,736 - __main__ - INFO - Successfully saved chunks for file 35695.txt.\n"
     ]
    },
    {
     "data": {
      "application/vnd.jupyter.widget-view+json": {
       "model_id": "c033ebf472954d39bf95339e9418a269",
       "version_major": 2,
       "version_minor": 0
      },
      "text/plain": [
       "Batches:   0%|          | 0/1 [00:00<?, ?it/s]"
      ]
     },
     "metadata": {},
     "output_type": "display_data"
    },
    {
     "name": "stderr",
     "output_type": "stream",
     "text": [
      "2024-05-31 16:04:01,102 - httpx - INFO - HTTP Request: PUT http://localhost:6333/collections/documents/points?wait=true \"HTTP/1.1 200 OK\"\n",
      "2024-05-31 16:04:01,103 - __main__ - INFO - Successfully saved chunks for file 36300.txt.\n"
     ]
    },
    {
     "data": {
      "application/vnd.jupyter.widget-view+json": {
       "model_id": "ea8fec93cab24fdfbf9a99d879ae4b96",
       "version_major": 2,
       "version_minor": 0
      },
      "text/plain": [
       "Batches:   0%|          | 0/2 [00:00<?, ?it/s]"
      ]
     },
     "metadata": {},
     "output_type": "display_data"
    },
    {
     "name": "stderr",
     "output_type": "stream",
     "text": [
      "2024-05-31 16:04:03,052 - httpx - INFO - HTTP Request: PUT http://localhost:6333/collections/documents/points?wait=true \"HTTP/1.1 200 OK\"\n",
      "2024-05-31 16:04:03,053 - __main__ - INFO - Successfully saved chunks for file 382275.txt.\n"
     ]
    },
    {
     "data": {
      "application/vnd.jupyter.widget-view+json": {
       "model_id": "a18ea70b909e4e8d874e7599ce7c245e",
       "version_major": 2,
       "version_minor": 0
      },
      "text/plain": [
       "Batches:   0%|          | 0/1 [00:00<?, ?it/s]"
      ]
     },
     "metadata": {},
     "output_type": "display_data"
    },
    {
     "name": "stderr",
     "output_type": "stream",
     "text": [
      "2024-05-31 16:04:03,099 - httpx - INFO - HTTP Request: PUT http://localhost:6333/collections/documents/points?wait=true \"HTTP/1.1 200 OK\"\n",
      "2024-05-31 16:04:03,100 - __main__ - INFO - Successfully saved chunks for file 3911740.txt.\n"
     ]
    },
    {
     "data": {
      "application/vnd.jupyter.widget-view+json": {
       "model_id": "97fa71c8af3542bdb904b5e38b75f681",
       "version_major": 2,
       "version_minor": 0
      },
      "text/plain": [
       "Batches:   0%|          | 0/2 [00:00<?, ?it/s]"
      ]
     },
     "metadata": {},
     "output_type": "display_data"
    },
    {
     "name": "stderr",
     "output_type": "stream",
     "text": [
      "2024-05-31 16:04:05,482 - httpx - INFO - HTTP Request: PUT http://localhost:6333/collections/documents/points?wait=true \"HTTP/1.1 200 OK\"\n",
      "2024-05-31 16:04:05,483 - __main__ - INFO - Successfully saved chunks for file 39240.txt.\n"
     ]
    },
    {
     "data": {
      "application/vnd.jupyter.widget-view+json": {
       "model_id": "9dc226329adf4ae6bf9c7d75a418b829",
       "version_major": 2,
       "version_minor": 0
      },
      "text/plain": [
       "Batches:   0%|          | 0/1 [00:00<?, ?it/s]"
      ]
     },
     "metadata": {},
     "output_type": "display_data"
    },
    {
     "name": "stderr",
     "output_type": "stream",
     "text": [
      "2024-05-31 16:04:06,935 - httpx - INFO - HTTP Request: PUT http://localhost:6333/collections/documents/points?wait=true \"HTTP/1.1 200 OK\"\n",
      "2024-05-31 16:04:06,937 - __main__ - INFO - Successfully saved chunks for file 4101846.txt.\n"
     ]
    },
    {
     "data": {
      "application/vnd.jupyter.widget-view+json": {
       "model_id": "9abbf78e17224e4ea3e4e94010987dea",
       "version_major": 2,
       "version_minor": 0
      },
      "text/plain": [
       "Batches:   0%|          | 0/1 [00:00<?, ?it/s]"
      ]
     },
     "metadata": {},
     "output_type": "display_data"
    },
    {
     "name": "stderr",
     "output_type": "stream",
     "text": [
      "2024-05-31 16:04:06,997 - httpx - INFO - HTTP Request: PUT http://localhost:6333/collections/documents/points?wait=true \"HTTP/1.1 200 OK\"\n",
      "2024-05-31 16:04:06,999 - __main__ - INFO - Successfully saved chunks for file 41062.txt.\n"
     ]
    },
    {
     "data": {
      "application/vnd.jupyter.widget-view+json": {
       "model_id": "5e5ce2b7588f4b698a74b27560106cac",
       "version_major": 2,
       "version_minor": 0
      },
      "text/plain": [
       "Batches:   0%|          | 0/1 [00:00<?, ?it/s]"
      ]
     },
     "metadata": {},
     "output_type": "display_data"
    },
    {
     "name": "stderr",
     "output_type": "stream",
     "text": [
      "2024-05-31 16:04:07,374 - httpx - INFO - HTTP Request: PUT http://localhost:6333/collections/documents/points?wait=true \"HTTP/1.1 200 OK\"\n",
      "2024-05-31 16:04:07,375 - __main__ - INFO - Successfully saved chunks for file 4169181.txt.\n"
     ]
    },
    {
     "data": {
      "application/vnd.jupyter.widget-view+json": {
       "model_id": "0c822ec6afcb4691843961c1c35755d1",
       "version_major": 2,
       "version_minor": 0
      },
      "text/plain": [
       "Batches:   0%|          | 0/1 [00:00<?, ?it/s]"
      ]
     },
     "metadata": {},
     "output_type": "display_data"
    },
    {
     "name": "stderr",
     "output_type": "stream",
     "text": [
      "2024-05-31 16:04:07,885 - httpx - INFO - HTTP Request: PUT http://localhost:6333/collections/documents/points?wait=true \"HTTP/1.1 200 OK\"\n",
      "2024-05-31 16:04:07,886 - __main__ - INFO - Successfully saved chunks for file 44497.txt.\n"
     ]
    },
    {
     "data": {
      "application/vnd.jupyter.widget-view+json": {
       "model_id": "8b29466401f8412786b6abf495dca40d",
       "version_major": 2,
       "version_minor": 0
      },
      "text/plain": [
       "Batches:   0%|          | 0/1 [00:00<?, ?it/s]"
      ]
     },
     "metadata": {},
     "output_type": "display_data"
    },
    {
     "name": "stderr",
     "output_type": "stream",
     "text": [
      "2024-05-31 16:04:09,185 - httpx - INFO - HTTP Request: PUT http://localhost:6333/collections/documents/points?wait=true \"HTTP/1.1 200 OK\"\n",
      "2024-05-31 16:04:09,186 - __main__ - INFO - Successfully saved chunks for file 469138.txt.\n"
     ]
    },
    {
     "data": {
      "application/vnd.jupyter.widget-view+json": {
       "model_id": "f8d23cafae174c4db88727a0a9e478ba",
       "version_major": 2,
       "version_minor": 0
      },
      "text/plain": [
       "Batches:   0%|          | 0/2 [00:00<?, ?it/s]"
      ]
     },
     "metadata": {},
     "output_type": "display_data"
    },
    {
     "name": "stderr",
     "output_type": "stream",
     "text": [
      "2024-05-31 16:04:11,375 - httpx - INFO - HTTP Request: PUT http://localhost:6333/collections/documents/points?wait=true \"HTTP/1.1 200 OK\"\n",
      "2024-05-31 16:04:11,376 - __main__ - INFO - Successfully saved chunks for file 50.txt.\n"
     ]
    },
    {
     "data": {
      "application/vnd.jupyter.widget-view+json": {
       "model_id": "2309537ff0c141c3805b8ed7b544d5b4",
       "version_major": 2,
       "version_minor": 0
      },
      "text/plain": [
       "Batches:   0%|          | 0/1 [00:00<?, ?it/s]"
      ]
     },
     "metadata": {},
     "output_type": "display_data"
    },
    {
     "name": "stderr",
     "output_type": "stream",
     "text": [
      "2024-05-31 16:04:11,680 - httpx - INFO - HTTP Request: PUT http://localhost:6333/collections/documents/points?wait=true \"HTTP/1.1 200 OK\"\n",
      "2024-05-31 16:04:11,682 - __main__ - INFO - Successfully saved chunks for file 533540.txt.\n"
     ]
    },
    {
     "data": {
      "application/vnd.jupyter.widget-view+json": {
       "model_id": "68ec89d9912f48e894378040daae0bdd",
       "version_major": 2,
       "version_minor": 0
      },
      "text/plain": [
       "Batches:   0%|          | 0/1 [00:00<?, ?it/s]"
      ]
     },
     "metadata": {},
     "output_type": "display_data"
    },
    {
     "name": "stderr",
     "output_type": "stream",
     "text": [
      "2024-05-31 16:04:11,784 - httpx - INFO - HTTP Request: PUT http://localhost:6333/collections/documents/points?wait=true \"HTTP/1.1 200 OK\"\n",
      "2024-05-31 16:04:11,786 - __main__ - INFO - Successfully saved chunks for file 554913.txt.\n"
     ]
    },
    {
     "data": {
      "application/vnd.jupyter.widget-view+json": {
       "model_id": "eaa94c48f7bc44a2ad328de98ee924e4",
       "version_major": 2,
       "version_minor": 0
      },
      "text/plain": [
       "Batches:   0%|          | 0/1 [00:00<?, ?it/s]"
      ]
     },
     "metadata": {},
     "output_type": "display_data"
    },
    {
     "name": "stderr",
     "output_type": "stream",
     "text": [
      "2024-05-31 16:04:11,965 - httpx - INFO - HTTP Request: PUT http://localhost:6333/collections/documents/points?wait=true \"HTTP/1.1 200 OK\"\n",
      "2024-05-31 16:04:11,966 - __main__ - INFO - Successfully saved chunks for file 60388.txt.\n"
     ]
    },
    {
     "data": {
      "application/vnd.jupyter.widget-view+json": {
       "model_id": "136448fb5236413db894f3699dcbb667",
       "version_major": 2,
       "version_minor": 0
      },
      "text/plain": [
       "Batches:   0%|          | 0/2 [00:00<?, ?it/s]"
      ]
     },
     "metadata": {},
     "output_type": "display_data"
    },
    {
     "name": "stderr",
     "output_type": "stream",
     "text": [
      "2024-05-31 16:04:14,566 - httpx - INFO - HTTP Request: PUT http://localhost:6333/collections/documents/points?wait=true \"HTTP/1.1 200 OK\"\n",
      "2024-05-31 16:04:14,568 - __main__ - INFO - Successfully saved chunks for file 60835.txt.\n"
     ]
    },
    {
     "data": {
      "application/vnd.jupyter.widget-view+json": {
       "model_id": "ba2387dfb9e14de68db53c496cf08284",
       "version_major": 2,
       "version_minor": 0
      },
      "text/plain": [
       "Batches:   0%|          | 0/1 [00:00<?, ?it/s]"
      ]
     },
     "metadata": {},
     "output_type": "display_data"
    },
    {
     "name": "stderr",
     "output_type": "stream",
     "text": [
      "2024-05-31 16:04:14,683 - httpx - INFO - HTTP Request: PUT http://localhost:6333/collections/documents/points?wait=true \"HTTP/1.1 200 OK\"\n",
      "2024-05-31 16:04:14,684 - __main__ - INFO - Successfully saved chunks for file 62140.txt.\n"
     ]
    },
    {
     "data": {
      "application/vnd.jupyter.widget-view+json": {
       "model_id": "bbd294b08e084fc18cbdada052854e7b",
       "version_major": 2,
       "version_minor": 0
      },
      "text/plain": [
       "Batches:   0%|          | 0/1 [00:00<?, ?it/s]"
      ]
     },
     "metadata": {},
     "output_type": "display_data"
    },
    {
     "name": "stderr",
     "output_type": "stream",
     "text": [
      "2024-05-31 16:04:16,234 - httpx - INFO - HTTP Request: PUT http://localhost:6333/collections/documents/points?wait=true \"HTTP/1.1 200 OK\"\n",
      "2024-05-31 16:04:16,235 - __main__ - INFO - Successfully saved chunks for file 67938.txt.\n"
     ]
    },
    {
     "data": {
      "application/vnd.jupyter.widget-view+json": {
       "model_id": "d8b8c3189d4d4baabe9480f869017785",
       "version_major": 2,
       "version_minor": 0
      },
      "text/plain": [
       "Batches:   0%|          | 0/1 [00:00<?, ?it/s]"
      ]
     },
     "metadata": {},
     "output_type": "display_data"
    },
    {
     "name": "stderr",
     "output_type": "stream",
     "text": [
      "2024-05-31 16:04:16,294 - httpx - INFO - HTTP Request: PUT http://localhost:6333/collections/documents/points?wait=true \"HTTP/1.1 200 OK\"\n",
      "2024-05-31 16:04:16,295 - __main__ - INFO - Successfully saved chunks for file 6826333.txt.\n"
     ]
    },
    {
     "data": {
      "application/vnd.jupyter.widget-view+json": {
       "model_id": "060523157bf9400ea22ab559026281c1",
       "version_major": 2,
       "version_minor": 0
      },
      "text/plain": [
       "Batches:   0%|          | 0/1 [00:00<?, ?it/s]"
      ]
     },
     "metadata": {},
     "output_type": "display_data"
    },
    {
     "name": "stderr",
     "output_type": "stream",
     "text": [
      "2024-05-31 16:04:16,455 - httpx - INFO - HTTP Request: PUT http://localhost:6333/collections/documents/points?wait=true \"HTTP/1.1 200 OK\"\n",
      "2024-05-31 16:04:16,457 - __main__ - INFO - Successfully saved chunks for file 820423.txt.\n"
     ]
    },
    {
     "data": {
      "application/vnd.jupyter.widget-view+json": {
       "model_id": "796491b61b164e6eb656d8b9bbd7ddc8",
       "version_major": 2,
       "version_minor": 0
      },
      "text/plain": [
       "Batches:   0%|          | 0/1 [00:00<?, ?it/s]"
      ]
     },
     "metadata": {},
     "output_type": "display_data"
    },
    {
     "name": "stderr",
     "output_type": "stream",
     "text": [
      "2024-05-31 16:04:17,631 - httpx - INFO - HTTP Request: PUT http://localhost:6333/collections/documents/points?wait=true \"HTTP/1.1 200 OK\"\n",
      "2024-05-31 16:04:17,632 - __main__ - INFO - Successfully saved chunks for file 86619.txt.\n"
     ]
    },
    {
     "data": {
      "application/vnd.jupyter.widget-view+json": {
       "model_id": "8d57314d7b9d4cf5920fa3e9078ba144",
       "version_major": 2,
       "version_minor": 0
      },
      "text/plain": [
       "Batches:   0%|          | 0/1 [00:00<?, ?it/s]"
      ]
     },
     "metadata": {},
     "output_type": "display_data"
    },
    {
     "name": "stderr",
     "output_type": "stream",
     "text": [
      "2024-05-31 16:04:17,967 - httpx - INFO - HTTP Request: PUT http://localhost:6333/collections/documents/points?wait=true \"HTTP/1.1 200 OK\"\n",
      "2024-05-31 16:04:17,968 - __main__ - INFO - Successfully saved chunks for file 92937.txt.\n"
     ]
    },
    {
     "data": {
      "application/vnd.jupyter.widget-view+json": {
       "model_id": "2468205e83404250986efb332c7133d7",
       "version_major": 2,
       "version_minor": 0
      },
      "text/plain": [
       "Batches:   0%|          | 0/1 [00:00<?, ?it/s]"
      ]
     },
     "metadata": {},
     "output_type": "display_data"
    },
    {
     "name": "stderr",
     "output_type": "stream",
     "text": [
      "2024-05-31 16:04:18,124 - httpx - INFO - HTTP Request: PUT http://localhost:6333/collections/documents/points?wait=true \"HTTP/1.1 200 OK\"\n",
      "2024-05-31 16:04:18,125 - __main__ - INFO - Successfully saved chunks for file 984291.txt.\n"
     ]
    }
   ],
   "source": [
    "import uuid\n",
    "import logging\n",
    "from qdrant_client import QdrantClient\n",
    "from qdrant_client.http.models import Distance, VectorParams, PointStruct\n",
    "from sentence_transformers import SentenceTransformer\n",
    "\n",
    "# Параметры\n",
    "COLL_NAME = 'documents'\n",
    "ENCODER_NAME = 'intfloat/multilingual-e5-large'\n",
    "VEC_SIZE = 1024  # Обновлено для соответствия размеру векторов энкодера\n",
    "CHUNK_SIZE = 1430\n",
    "CHUNK_OVERLAP = 138\n",
    "FILES_DIR = 'files'\n",
    "\n",
    "# Настройка логирования\n",
    "logging.basicConfig(level=logging.INFO, format='%(asctime)s - %(name)s - %(levellevelname)s - %(message)s')\n",
    "logger = logging.getLogger(__name__)\n",
    "\n",
    "# Функция для чтения файла и разбиения его на чанки\n",
    "def file_to_chunks(file_path, chunk_size, chunk_overlap):\n",
    "    with open(file_path, 'r', encoding='utf-8') as file:\n",
    "        text = file.read()\n",
    "    chunks = []\n",
    "    for i in range(0, len(text), chunk_size - chunk_overlap):\n",
    "        chunks.append(text[i:i + chunk_size])\n",
    "    return chunks\n",
    "\n",
    "# Функция для преобразования текста в вектора\n",
    "def str_to_vec(encoder, texts):\n",
    "    return encoder.encode(texts)\n",
    "\n",
    "# Создаем подключение к векторной БД\n",
    "try:\n",
    "    qdrant_client = QdrantClient('localhost', port=6333)\n",
    "    logger.info(\"Successfully connected to Qdrant server.\")\n",
    "except Exception as e:\n",
    "    logger.error(f\"Failed to connect to Qdrant server: {e}\")\n",
    "    raise\n",
    "\n",
    "# Функция для сохранения чанков в базу данных\n",
    "def save_chunks(encoder, chunks, file_name):\n",
    "    try:\n",
    "        chunk_embeddings = str_to_vec(encoder, chunks)\n",
    "        points = []\n",
    "        for i in range(len(chunk_embeddings)):\n",
    "            point = PointStruct(\n",
    "                id=str(uuid.uuid4()),\n",
    "                vector=chunk_embeddings[i],\n",
    "                payload={'file': file_name, 'chunk': chunks[i], 'file_path': os.path.join(FILES_DIR, file_name)}\n",
    "            )\n",
    "            points.append(point)\n",
    "        operation_info = qdrant_client.upsert(\n",
    "            collection_name=COLL_NAME,\n",
    "            wait=True,\n",
    "            points=points\n",
    "        )\n",
    "        logger.info(f\"Successfully saved chunks for file {file_name}.\")\n",
    "        return operation_info\n",
    "    except Exception as e:\n",
    "        logger.error(f\"Failed to save chunks for file {file_name}: {e}\")\n",
    "        raise\n",
    "\n",
    "# Функция для загрузки файлов в базу данных\n",
    "def files_to_vecdb(files, encoder, vec_size, chunk_size, chunk_overlap):\n",
    "    try:\n",
    "        qdrant_client.delete_collection(collection_name=COLL_NAME)\n",
    "        logger.info(f\"Collection {COLL_NAME} deleted successfully.\")\n",
    "        qdrant_client.create_collection(\n",
    "            collection_name=COLL_NAME,\n",
    "            vectors_config=VectorParams(size=vec_size, distance=Distance.COSINE),\n",
    "        )\n",
    "        logger.info(f\"Collection {COLL_NAME} created successfully.\")\n",
    "        for file_name in files:\n",
    "            chunks = file_to_chunks(os.path.join(FILES_DIR, file_name), chunk_size, chunk_overlap)\n",
    "            save_chunks(encoder, chunks, file_name)\n",
    "    except Exception as e:\n",
    "        logger.error(f\"Failed to process files to vecdb: {e}\")\n",
    "        raise\n",
    "\n",
    "# Инициализация энкодера\n",
    "encoder_model = SentenceTransformer(ENCODER_NAME)\n",
    "\n",
    "# Загрузка файлов в базу данных\n",
    "import os\n",
    "files = [f for f in os.listdir(FILES_DIR) if os.path.isfile(os.path.join(FILES_DIR, f))]\n",
    "files_to_vecdb(files, encoder_model, VEC_SIZE, CHUNK_SIZE, CHUNK_OVERLAP)"
   ]
  },
  {
   "cell_type": "code",
   "execution_count": 6,
   "metadata": {},
   "outputs": [
    {
     "name": "stderr",
     "output_type": "stream",
     "text": [
      "2024-05-31 16:06:48,568 - httpx - INFO - HTTP Request: POST http://localhost:6333/collections/documents/points/count \"HTTP/1.1 200 OK\"\n",
      "2024-05-31 16:06:48,599 - httpx - INFO - HTTP Request: POST http://localhost:6333/collections/documents/points/scroll \"HTTP/1.1 200 OK\"\n",
      "2024-05-31 16:06:48,676 - __main__ - ERROR - Failed to retrieve file count from collection documents: 'tuple' object has no attribute 'points'\n"
     ]
    },
    {
     "name": "stdout",
     "output_type": "stream",
     "text": [
      "Number of points in collection: 1093\n"
     ]
    }
   ],
   "source": [
    "# Вывод количества уникальных файлов в базе данных\n",
    "try:\n",
    "    count_result = qdrant_client.count(collection_name=COLL_NAME)\n",
    "    print(f\"Number of points in collection: {count_result.count}\")\n",
    "\n",
    "    all_points = qdrant_client.scroll(collection_name=COLL_NAME, limit=count_result.count, with_payload=True)\n",
    "    file_names = set()\n",
    "    for point in all_points.points:\n",
    "        file_names.add(point.payload['file'])\n",
    "    print(\"Number of unique files in collection:\", len(file_names))\n",
    "except Exception as e:\n",
    "    logger.error(f\"Failed to retrieve file count from collection {COLL_NAME}: {e}\")"
   ]
  }
 ],
 "metadata": {
  "kernelspec": {
   "display_name": "base",
   "language": "python",
   "name": "python3"
  },
  "language_info": {
   "codemirror_mode": {
    "name": "ipython",
    "version": 3
   },
   "file_extension": ".py",
   "mimetype": "text/x-python",
   "name": "python",
   "nbconvert_exporter": "python",
   "pygments_lexer": "ipython3",
   "version": "3.11.7"
  }
 },
 "nbformat": 4,
 "nbformat_minor": 2
}
